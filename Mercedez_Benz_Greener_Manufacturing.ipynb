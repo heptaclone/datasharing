{
  "nbformat": 4,
  "nbformat_minor": 0,
  "metadata": {
    "colab": {
      "provenance": [],
      "authorship_tag": "ABX9TyOIz31RVtoctmT7ct3sD6Bt",
      "include_colab_link": true
    },
    "kernelspec": {
      "name": "python3",
      "display_name": "Python 3"
    }
  },
  "cells": [
    {
      "cell_type": "markdown",
      "metadata": {
        "id": "view-in-github",
        "colab_type": "text"
      },
      "source": [
        "<a href=\"https://colab.research.google.com/github/heptaclone/datasharing/blob/master/Mercedez_Benz_Greener_Manufacturing.ipynb\" target=\"_parent\"><img src=\"https://colab.research.google.com/assets/colab-badge.svg\" alt=\"Open In Colab\"/></a>"
      ]
    },
    {
      "cell_type": "code",
      "metadata": {
        "id": "JAL03682He5Q"
      },
      "source": [
        "import numpy as np\n",
        "import matplotlib.pyplot as plt\n",
        "import pandas as pd\n",
        "import seaborn as sns\n",
        "from sklearn.preprocessing import LabelEncoder\n",
        "import os\n",
        "import warnings\n",
        "warnings.filterwarnings('ignore')\n",
        "\n",
        "%matplotlib inline"
      ],
      "execution_count": null,
      "outputs": []
    },
    {
      "cell_type": "code",
      "metadata": {
        "id": "A4bObc_kISV5"
      },
      "source": [
        "colors = ['#001c57', '#50248f', '#38d1ff', '#a6a6a6']\n",
        "sns.palplot (sns.color_palette(colors))"
      ],
      "execution_count": null,
      "outputs": []
    },
    {
      "cell_type": "code",
      "metadata": {
        "id": "I3yLjhyYKFrh"
      },
      "source": [
        "train = pd.read_csv('...zip')\n",
        "test = pd.read_csv('...zip')\n",
        "sub = pd.read_csv('...zip')\n",
        "\n",
        "print (\"Train shape: * \", train.shape)\n",
        "print (\"Test shape: * \", test.shape)"
      ],
      "execution_count": null,
      "outputs": []
    },
    {
      "cell_type": "code",
      "metadata": {
        "id": "dWdDbDDGK7Ir"
      },
      "source": [
        "train.head()"
      ],
      "execution_count": null,
      "outputs": []
    },
    {
      "cell_type": "code",
      "metadata": {
        "id": "sGgtcOJHK92g"
      },
      "source": [
        "plt.figure(figsize =(15,5))\n",
        "plt.subplot(121)\n",
        "sns.distplot(train.y.values, bins = 50, color = colors[1])\n",
        "plt.title('nazvanie', fontsize = 20)\n",
        "plt.xlabel('v secundah'); plt.ylabel('v kmh');\n",
        "\n",
        "plt.subplot(121)\n",
        "sns.boxplot(train.y.values, color = colors[3])\n",
        "plt.title('dkdas', fontsize = 10)\n",
        "plt.xlabel('v sec')"
      ],
      "execution_count": null,
      "outputs": []
    },
    {
      "cell_type": "code",
      "metadata": {
        "id": "ey8HYl04MJSW"
      },
      "source": [
        "train.y.describe()\n",
        "\n",
        "Целевая переменная имеет стандартное распределение от 70 до 140 сек. Первый и третий квартили в таких=то диапазонах, медиана на 110, выбросы с 140 сек, которые мы можем удалить из обучающей выборки , так как эти значения будут добавлять шум в наш алгоритм."
      ],
      "execution_count": null,
      "outputs": []
    },
    {
      "cell_type": "code",
      "metadata": {
        "id": "1KR7SMDLMNTA"
      },
      "source": [
        "train.dtypes.value_counts()"
      ],
      "execution_count": null,
      "outputs": []
    },
    {
      "cell_type": "code",
      "metadata": {
        "id": "9JkKSiiXM5pM"
      },
      "source": [
        "train.dtypes[train.dtypes == 'float']"
      ],
      "execution_count": null,
      "outputs": []
    },
    {
      "cell_type": "code",
      "metadata": {
        "id": "047uYsP3NhQZ"
      },
      "source": [
        "train.dtypes[train.dtypes == 'Object']"
      ],
      "execution_count": null,
      "outputs": []
    },
    {
      "cell_type": "code",
      "metadata": {
        "id": "mVjZ-eMzNxXh"
      },
      "source": [
        "obj = train.dtypes[train.dtypes == 'object'].reset_index\n",
        "for in obj:\n",
        "  print (i, train[i].unique())"
      ],
      "execution_count": null,
      "outputs": []
    },
    {
      "cell_type": "code",
      "metadata": {
        "id": "HnrBpajCif_o"
      },
      "source": [
        "train.isna().sum()[train.isna().sum()>0]"
      ],
      "execution_count": null,
      "outputs": []
    },
    {
      "cell_type": "code",
      "metadata": {
        "id": "n9GGivJphnKC"
      },
      "source": [
        "fig.ax = plt.subplots (len(obj), figsize=(20, 70))\n",
        "for i, col in enumerate (obj):\n",
        "  sns.boxplot(x=col, y = 'y', data=train, ax=ax[i])\n",
        "\n",
        "  Что видим из графиков:\n",
        "\n",
        "1) Так как есть необходимость в снижении времени тестирования, то наилучшими значениями в переменных, при которых это время минимально az и bc (X0), y (X1), n (X2), x и h (X5) (гипотеза: могут влиять на y?)\n",
        "\n",
        "2) Переменные X3, X5, X6, X8 имеют похожие распределения значений, где нет особых различий внутри фичи между значениями в разрезе средних и квартилей\n",
        "\n",
        "3) X0 и X2 имеют наибольшее разнообразие внутри переменных, что может потенциально говорить об большей полезности данных фичей"
      ],
      "execution_count": null,
      "outputs": []
    },
    {
      "cell_type": "code",
      "metadata": {
        "id": "7yw98AtwimGo"
      },
      "source": [
        "num = train.dtypes[train.dtypes=='int'].index[1:]\n",
        "\n",
        "Мы имеем набор числовых переменных, где значение задано 1, либо 0, поэтому нет необходимости проводить объемный ананлиз. В данном случае нам должно быть интересно, меняется ли значение показателей внутри переменных, для этого исследуем дисперсию данных переменных, используем при этом функцию var(), и выберем только те, где дисперсия нулевая (то есть всегда 0, либо 1 на всем датасете в разрезе переменной)"
      ],
      "execution_count": null,
      "outputs": []
    },
    {
      "cell_type": "code",
      "metadata": {
        "id": "B8gvOM4XiqCw"
      },
      "source": [
        "for i in num:\n",
        "    if (train[i].var()==0):\n",
        "        print(i, train[i].var())\n",
        "        nan_num.append(i)\n",
        "\n",
        "Мы получили несколько таких переменных, из анализа мы можем их удалить, так как они никак не будут влиять на таргет, тем самым мы повышаем происзводительность работы алгоритма"
      ],
      "execution_count": null,
      "outputs": []
    },
    {
      "cell_type": "code",
      "metadata": {
        "id": "X5Odjfs9iul1"
      },
      "source": [
        "train = train.drop(columns=nan_num, axis=1)"
      ],
      "execution_count": null,
      "outputs": []
    },
    {
      "cell_type": "code",
      "metadata": {
        "id": "S5-NysKri0bw"
      },
      "source": [
        "Чтобы мы смогли сделать корреляционный анализ и для категориальных переменных, то перед этим нужно преобразовать эти переменные, использовав LabelEncoder(), при преобразовании значений в двойчный вид мы не сможем отследить взаимосвязь той или иной переменной + мы должны учесть тестовый набор, так как его значения будут участвовать при нахождении таргета"
      ],
      "execution_count": null,
      "outputs": []
    },
    {
      "cell_type": "code",
      "metadata": {
        "id": "P7TbeoWKi5Kx"
      },
      "source": [
        "for i in obj:\n",
        "    le = LabelEncoder()\n",
        "    le.fit(list(train[i].values) + list(train[i].values))\n",
        "    train[i] = le.transform(list(train[i].values))"
      ],
      "execution_count": null,
      "outputs": []
    },
    {
      "cell_type": "code",
      "metadata": {
        "id": "XlSCCyaFi7ZL"
      },
      "source": [
        "train[obj].head()"
      ],
      "execution_count": null,
      "outputs": []
    },
    {
      "cell_type": "code",
      "metadata": {
        "id": "beJDCPRgi9JJ"
      },
      "source": [
        "corr = train[train.columns[1:10]].corr()\n",
        "\n",
        "fig,ax = plt.subplots(figsize=(7,6))\n",
        "sns.heatmap(corr, vmax=.7, square=True,annot=True);"
      ],
      "execution_count": null,
      "outputs": []
    },
    {
      "cell_type": "code",
      "metadata": {
        "id": "d0YYsyMgi_Xh"
      },
      "source": [
        "threshold = 1\n",
        "\n",
        "corr_all = train.drop(columns=obj, axis=1).corr()\n",
        "corr_all.loc[:,:] =  np.tril(corr_all, k=-1)"
      ],
      "execution_count": null,
      "outputs": []
    },
    {
      "cell_type": "code",
      "metadata": {
        "id": "vFt-50gXjBnn"
      },
      "source": [
        "already_in = set()\n",
        "result = []\n",
        "for col in corr_all:\n",
        "    perfect_corr = corr_all[col][corr_all[col] == threshold ].index.tolist()\n",
        "    if perfect_corr and col not in already_in:\n",
        "        already_in.update(set(perfect_corr))\n",
        "        perfect_corr.append(col)\n",
        "        result.append(perfect_corr)"
      ],
      "execution_count": null,
      "outputs": []
    },
    {
      "cell_type": "code",
      "metadata": {
        "id": "hkMvQnWejDAR"
      },
      "source": [
        "result"
      ],
      "execution_count": null,
      "outputs": []
    },
    {
      "cell_type": "code",
      "metadata": {
        "id": "nVSQE41GjFAb"
      },
      "source": [
        "При анализе числовых переменных, мы обнаружили, что часть из них имееет прямую корреляцую с другими, поэтому во избежании мультиколлинеарности можем удалить переменные корреляцией 1 (одну из группы оставить), либо использовать регуляризацию, чтобы алгоритм сделал это в автоматичексом режиме.\n",
        "\n",
        "Как еще мы можем удалить такие переменные без корреляции? Все просто, удаляем дубликаты в разрезе столбцов."
      ],
      "execution_count": null,
      "outputs": []
    },
    {
      "cell_type": "code",
      "metadata": {
        "id": "JtbLO5aejG1Y"
      },
      "source": [
        "train.T.drop_duplicates().T"
      ],
      "execution_count": null,
      "outputs": []
    }
  ]
}